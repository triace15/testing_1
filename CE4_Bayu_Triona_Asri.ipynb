{
  "nbformat": 4,
  "nbformat_minor": 5,
  "metadata": {
    "kernelspec": {
      "display_name": "Python 3",
      "language": "python",
      "name": "python3"
    },
    "language_info": {
      "codemirror_mode": {
        "name": "ipython",
        "version": 3
      },
      "file_extension": ".py",
      "mimetype": "text/x-python",
      "name": "python",
      "nbconvert_exporter": "python",
      "pygments_lexer": "ipython3",
      "version": "3.8.5"
    },
    "colab": {
      "provenance": []
    }
  },
  "cells": [
    {
      "cell_type": "markdown",
      "metadata": {
        "id": "rgyHha0XVqWk"
      },
      "source": [
        "## Welcome to Coding challenge 4\n",
        "**Kamu hanya diminta untuk menyelesaikan 2 pertanyaan**\n"
      ],
      "id": "rgyHha0XVqWk"
    },
    {
      "cell_type": "markdown",
      "metadata": {
        "id": "yYHzZQQ7VqWo"
      },
      "source": [
        "### Question 1.\n",
        "### \"Shifting Members of an Array\""
      ],
      "id": "yYHzZQQ7VqWo"
    },
    {
      "cell_type": "markdown",
      "metadata": {
        "id": "HnQ0f2qIVqWp"
      },
      "source": [
        "Pada pertanyaan ini, kita ingin menggeser array ke kanan. seberapa banyak?\n",
        "Tergantung dari input\n",
        "\n",
        "##### Example 1:\n",
        "array = [1,2,3,4,5]\n",
        "steps = 3\n",
        "\n",
        "Kita harus menggeser array 3 langkah ke kanan.\n",
        "- Original array = [1,2,3,4,5]\n",
        "- Step 1 = [5,1,2,3,4]\n",
        "- Step 2 = [4,5,1,2,3]\n",
        "- Step 3 = [3,4,5,1,2]\n",
        "\n",
        "Answer = [3,4,5,1,2]\n",
        "\n",
        "##### Example 2:\n",
        "array = [1,2,3]\n",
        "steps = 5\n",
        "\n",
        "Kita harus menggeser array 3 langkah ke kanan.\n",
        "\n",
        "- Original array = [1,2,3]\n",
        "- Step 1 = [3,1,2]\n",
        "- Step 2 = [2,3,1]\n",
        "- Step 3 = [1,2,3]\n",
        "- Step 4 = [3,1,2]\n",
        "- Step 5 = [2,3,1]\n",
        "\n",
        "Answer = [2,3,1]"
      ],
      "id": "HnQ0f2qIVqWp"
    },
    {
      "cell_type": "code",
      "metadata": {
        "id": "fJsYHD2DVqWq"
      },
      "source": [
        "### Write your function here ###\n",
        "def shift(array, steps):\n",
        "    return array[steps:] + array[:steps]"
      ],
      "id": "fJsYHD2DVqWq",
      "execution_count": 1,
      "outputs": []
    },
    {
      "cell_type": "code",
      "metadata": {
        "id": "bvmpT8ZxWtQc"
      },
      "source": [
        "### Solution\n",
        "\n",
        "def shift(array,steps):\n",
        "  steps = steps % len(array)\n",
        "  head = array[:steps]\n",
        "  array[:steps] = []\n",
        "  array.extend(head)\n",
        "  return array"
      ],
      "id": "bvmpT8ZxWtQc",
      "execution_count": 2,
      "outputs": []
    },
    {
      "cell_type": "code",
      "source": [
        "### True Solution\n",
        "def shift(array, steps):\n",
        "    if len(array) == 0:\n",
        "        return array\n",
        "\n",
        "    steps = steps % len(array)\n",
        "\n",
        "    return array[-steps:] + array[:-steps]"
      ],
      "metadata": {
        "id": "gjaBas4ILH2x"
      },
      "id": "gjaBas4ILH2x",
      "execution_count": 13,
      "outputs": []
    },
    {
      "cell_type": "code",
      "metadata": {
        "id": "qpDQUNijXhd7",
        "colab": {
          "base_uri": "https://localhost:8080/"
        },
        "outputId": "41924169-973b-4205-9da3-ca122aaa2de1"
      },
      "source": [
        "#shift([1,2,3,4,5],4)\n",
        "array = ['di', 'bim', 'bing', 123, 'data', 'science']\n",
        "steps = 10\n",
        "shift(array,steps)\n",
        "# Expected Output: [2, 3, 4, 5, 1]"
      ],
      "id": "qpDQUNijXhd7",
      "execution_count": 14,
      "outputs": [
        {
          "output_type": "execute_result",
          "data": {
            "text/plain": [
              "['bing', 123, 'data', 'science', 'di', 'bim']"
            ]
          },
          "metadata": {},
          "execution_count": 14
        }
      ]
    },
    {
      "cell_type": "code",
      "metadata": {
        "id": "jnr5znJUVqWr"
      },
      "source": [
        "shift(['andi', 'budi', 'charlie', 'doni'],7)\n",
        "\n",
        "# Expected Output: ['budi', 'charlie', 'doni', 'andi']"
      ],
      "id": "jnr5znJUVqWr",
      "execution_count": null,
      "outputs": []
    },
    {
      "cell_type": "code",
      "metadata": {
        "id": "LJaWSk-sW9ak"
      },
      "source": [
        "shift(['di', 'bim', 'bing', 123, 'data', 'science'],10)\n",
        "\n",
        "# Expected Output: ['bing', 123, 'data', 'science', 'di', 'bim']"
      ],
      "id": "LJaWSk-sW9ak",
      "execution_count": null,
      "outputs": []
    },
    {
      "cell_type": "markdown",
      "metadata": {
        "id": "MRxU2bsKVqWs"
      },
      "source": [
        "### Question 2.\n",
        "### \"Segitiga Paskal\""
      ],
      "id": "MRxU2bsKVqWs"
    },
    {
      "cell_type": "markdown",
      "metadata": {
        "id": "hBUS1vtjVqWs"
      },
      "source": [
        "Kita akan membuat segitiga paskal sebanyak n-baris. fungsi yang dibuat harus bernama ```pascal```. Apabila belum mengetahui apa itu segitiga paskal, silahkan lihat video:https://www.youtube.com/watch?v=1D3KsvfB8b0 dan baca https://www.mathsisfun.com/pascals-triangle.html\n",
        "\n",
        "##### Example 1:\n",
        "Input = 4,\n",
        "\n",
        "Answer = [1,4,6,4,1]\n",
        "\n",
        "##### Example 2:\n",
        "input = 3,\n",
        "\n",
        "Answer = [1,3,3,1]\n",
        "\n"
      ],
      "id": "hBUS1vtjVqWs"
    },
    {
      "cell_type": "code",
      "metadata": {
        "id": "2KDt9NdfVqWt"
      },
      "source": [
        "### Write your solution here ###\n",
        "def pascal(input):\n",
        "    return"
      ],
      "id": "2KDt9NdfVqWt",
      "execution_count": null,
      "outputs": []
    },
    {
      "cell_type": "code",
      "source": [
        "from math import factorial"
      ],
      "metadata": {
        "id": "i1QM88qaY2nj"
      },
      "id": "i1QM88qaY2nj",
      "execution_count": null,
      "outputs": []
    },
    {
      "cell_type": "code",
      "metadata": {
        "id": "-Jkxdrn_VqWu"
      },
      "source": [
        "### Solution\n",
        "\n",
        "def pascal(n):\n",
        "  for i in range(n+1):\n",
        "    for j in range(n-i+1):\n",
        "      print(end=' ')\n",
        "    for k in range(i+1):\n",
        "      L = factorial(i)/(factorial(k)*factorial(i-k))\n",
        "      print(int(L), end=' ')\n",
        "    print()"
      ],
      "id": "-Jkxdrn_VqWu",
      "execution_count": null,
      "outputs": []
    },
    {
      "cell_type": "code",
      "metadata": {
        "id": "oRbvyp8oYsrU",
        "colab": {
          "base_uri": "https://localhost:8080/"
        },
        "outputId": "aeeb1f5f-ed8c-43b3-85f8-67d9a00ade02"
      },
      "source": [
        "n = int(input(\"Masukkan jumlah baris pascal : \"))\n",
        "pascal(n)"
      ],
      "id": "oRbvyp8oYsrU",
      "execution_count": null,
      "outputs": [
        {
          "output_type": "stream",
          "name": "stdout",
          "text": [
            "Masukkan jumlah baris pascal : 4\n",
            "     1 \n",
            "    1 1 \n",
            "   1 2 1 \n",
            "  1 3 3 1 \n",
            " 1 4 6 4 1 \n"
          ]
        }
      ]
    },
    {
      "cell_type": "markdown",
      "metadata": {
        "id": "UJFlJIG_VqWv"
      },
      "source": [
        "### Question 3"
      ],
      "id": "UJFlJIG_VqWv"
    },
    {
      "cell_type": "markdown",
      "metadata": {
        "id": "q_vw2BtGVqWv"
      },
      "source": [
        "### \"Jarak maksimal antara 3 titik\""
      ],
      "id": "q_vw2BtGVqWv"
    },
    {
      "cell_type": "markdown",
      "metadata": {
        "id": "k6qNbSInVqWw"
      },
      "source": [
        "Terdapat 3 koordinat, tentukan jarak antar 2 titik mana yang memiliki jarak terjauh, dan berikan output jarak kedua titik tersebut. fungsi yang anda buat haurs bernama ```max_ditance```. titik koordinat pertama disebut 'A', titik kedua disebut'B', dan titik ketiga disebut 'C'\n",
        "\n",
        "##### Example:\n",
        "A = [1,2],\n",
        "B = [10,-10],\n",
        "C = [-3, 5]\n",
        "\n",
        "- The distance between AB = 15\n",
        "- The distance between BC = 19.8\n",
        "- The distance between AC = 5.0\n",
        "\n",
        "Answer = \"The point B,C are furthest apart with distance 19.8\"\n"
      ],
      "id": "k6qNbSInVqWw"
    },
    {
      "cell_type": "code",
      "metadata": {
        "id": "la5u9FV4VqWw"
      },
      "source": [
        "### Write your solution here ###\n",
        "def max_distance(A,B,C):\n",
        "    return"
      ],
      "id": "la5u9FV4VqWw",
      "execution_count": null,
      "outputs": []
    },
    {
      "cell_type": "code",
      "metadata": {
        "id": "AOlaM0grVqWy"
      },
      "source": [
        "def max_distance(A,B,C):\n",
        "  P1 = (a1-b1)**2\n",
        "  P2 = (a2-b2)**2\n",
        "  P3 = (a1-c1)**2\n",
        "  P4 = (a2-c2)**2\n",
        "  P5 = (b1-c1)**2\n",
        "  P6 = (b2-c2)**2\n",
        "\n",
        "  P7 = (P1 + P2)**(0.5)\n",
        "  P8 = (P3 + P4)**(0.5)\n",
        "  P9 = (P5 + P6)**(0.5)\n",
        "\n",
        "  print(f\"• The distance between AB = {P7}\")\n",
        "  print(f\"• The distance between BC = {P9}\")\n",
        "  print(f\"• The distance between AC = {P8}\")\n",
        "\n",
        "  jarak_terjauh = max(P7, P8, P9)\n",
        "  if jarak_terjauh == P7:\n",
        "    return (f\"Asnwer = The point A, B are the furthest apart with distance {P7}\")\n",
        "  elif jarak_terjauh == P9:\n",
        "    return (f\"Asnwer = The point B, C are the furthest apart with distance {P9}\")\n",
        "  else:\n",
        "    return (f\"Asnwer = The point A, C are the furthest apart with distance {P8}\")\n",
        ""
      ],
      "id": "AOlaM0grVqWy",
      "execution_count": null,
      "outputs": []
    },
    {
      "cell_type": "code",
      "metadata": {
        "id": "jowcVYLLVqWy",
        "colab": {
          "base_uri": "https://localhost:8080/",
          "height": 192
        },
        "outputId": "8bcf3e39-ffdf-4e31-dae3-ec1d99dbca6c"
      },
      "source": [
        "a1 = int(input('Masukkan nilai p1 : '))\n",
        "a2 = int(input('Masukkan nilai p2 : '))\n",
        "b1 = int(input('Masukkan nilai q1 : '))\n",
        "b2 = int(input('Masukkan nilai q2 : '))\n",
        "c1 = int(input('Masukkan nilai p1 : '))\n",
        "c2 = int(input('Masukkan nilai p2 : '))\n",
        "\n",
        "A = [a1, a2]\n",
        "B = [b1, b2]\n",
        "C = [c1, c2]\n",
        "max_distance(A,B,C)"
      ],
      "id": "jowcVYLLVqWy",
      "execution_count": null,
      "outputs": [
        {
          "output_type": "stream",
          "name": "stdout",
          "text": [
            "Masukkan nilai p1 : 1\n",
            "Masukkan nilai p2 : 2\n",
            "Masukkan nilai q1 : 10\n",
            "Masukkan nilai q2 : -10\n",
            "Masukkan nilai p1 : -3\n",
            "Masukkan nilai p2 : 5\n",
            "• The distance between AB = 15.0\n",
            "• The distance between BC = 19.849433241279208\n",
            "• The distance between AC = 5.0\n"
          ]
        },
        {
          "output_type": "execute_result",
          "data": {
            "text/plain": [
              "'Asnwer = The point B, C are the furthest apart with distance 19.849433241279208'"
            ],
            "application/vnd.google.colaboratory.intrinsic+json": {
              "type": "string"
            }
          },
          "metadata": {},
          "execution_count": 11
        }
      ]
    },
    {
      "cell_type": "code",
      "metadata": {
        "id": "LDshQYqhVqWy"
      },
      "source": [],
      "id": "LDshQYqhVqWy",
      "execution_count": null,
      "outputs": []
    },
    {
      "cell_type": "code",
      "metadata": {
        "id": "bDrZLJjNVqWy"
      },
      "source": [],
      "id": "bDrZLJjNVqWy",
      "execution_count": null,
      "outputs": []
    },
    {
      "cell_type": "code",
      "metadata": {
        "id": "O329KSX6VqWy"
      },
      "source": [],
      "id": "O329KSX6VqWy",
      "execution_count": null,
      "outputs": []
    }
  ]
}